{
 "cells": [
  {
   "cell_type": "code",
   "execution_count": 1,
   "id": "5742af96-27ba-4acb-9539-1aba4e196f3a",
   "metadata": {},
   "outputs": [],
   "source": [
    "# declear veriable\n",
    "# veriables are the container used to store any data types\n",
    "X=10"
   ]
  },
  {
   "cell_type": "code",
   "execution_count": 3,
   "id": "b0cd1d9a-d659-4d93-8450-2de4eb2f0ffa",
   "metadata": {},
   "outputs": [
    {
     "name": "stdout",
     "output_type": "stream",
     "text": [
      "10\n"
     ]
    }
   ],
   "source": [
    "# print the veriable\n",
    "print(X)"
   ]
  },
  {
   "cell_type": "code",
   "execution_count": 5,
   "id": "86e4b4ed-529f-44f7-8579-1ac554815c0b",
   "metadata": {},
   "outputs": [
    {
     "data": {
      "text/plain": [
       "int"
      ]
     },
     "execution_count": 5,
     "metadata": {},
     "output_type": "execute_result"
    }
   ],
   "source": [
    "# check the data type of veriable\n",
    "type(X)"
   ]
  },
  {
   "cell_type": "code",
   "execution_count": 7,
   "id": "cc59a368-b415-4271-a1b2-322e762d9a8e",
   "metadata": {},
   "outputs": [
    {
     "name": "stdout",
     "output_type": "stream",
     "text": [
      "data type of the veriable <class 'int'>\n"
     ]
    }
   ],
   "source": [
    "# enter the data type \n",
    "int_1=20\n",
    "\n",
    "# show the data type\n",
    "print ('data type of the veriable',type(int_1))"
   ]
  },
  {
   "cell_type": "code",
   "execution_count": 9,
   "id": "cebbb46a-bdf5-4d8f-8645-ec306bd9951e",
   "metadata": {},
   "outputs": [
    {
     "name": "stdout",
     "output_type": "stream",
     "text": [
      "data type of the veriable <class 'float'>\n"
     ]
    }
   ],
   "source": [
    "# creat an float data type\n",
    "float_1=20.38\n",
    "\n",
    "# show the data type\n",
    "print ('data type of the veriable',type(float_1))"
   ]
  },
  {
   "cell_type": "code",
   "execution_count": 11,
   "id": "5bab70c6-2923-462b-8652-8b6551dbc9bf",
   "metadata": {},
   "outputs": [
    {
     "name": "stdout",
     "output_type": "stream",
     "text": [
      "data type of the veriable <class 'str'>\n"
     ]
    }
   ],
   "source": [
    "# create an string space data type\n",
    "string_1='jafar'\n",
    "\n",
    "# show the data type\n",
    "print ('data type of the veriable',type(string_1))\n",
    "\n"
   ]
  },
  {
   "cell_type": "code",
   "execution_count": 13,
   "id": "d727720f-c522-44a2-bc2a-92e9e33d9599",
   "metadata": {},
   "outputs": [],
   "source": [
    "# creat an list"
   ]
  },
  {
   "cell_type": "code",
   "execution_count": 17,
   "id": "44a678e9-735a-46e4-864b-f94ecb4b83bc",
   "metadata": {},
   "outputs": [
    {
     "name": "stdout",
     "output_type": "stream",
     "text": [
      "data type of the veriable <class 'list'>\n"
     ]
    },
    {
     "ename": "NameError",
     "evalue": "name 'list_12' is not defined",
     "output_type": "error",
     "traceback": [
      "\u001b[1;31m---------------------------------------------------------------------------\u001b[0m",
      "\u001b[1;31mNameError\u001b[0m                                 Traceback (most recent call last)",
      "Cell \u001b[1;32mIn[17], line 8\u001b[0m\n\u001b[0;32m      4\u001b[0m list_3\u001b[38;5;241m=\u001b[39m[\u001b[38;5;124m'\u001b[39m\u001b[38;5;124mJafar\u001b[39m\u001b[38;5;124m'\u001b[39m,\u001b[38;5;124m'\u001b[39m\u001b[38;5;124mNirmal\u001b[39m\u001b[38;5;124m'\u001b[39m,\u001b[38;5;124m'\u001b[39m\u001b[38;5;124mNanthini\u001b[39m\u001b[38;5;124m'\u001b[39m,\u001b[38;5;124m'\u001b[39m\u001b[38;5;124mPooja\u001b[39m\u001b[38;5;124m'\u001b[39m]\n\u001b[0;32m      7\u001b[0m \u001b[38;5;28mprint\u001b[39m (\u001b[38;5;124m'\u001b[39m\u001b[38;5;124mdata type of the veriable\u001b[39m\u001b[38;5;124m'\u001b[39m,\u001b[38;5;28mtype\u001b[39m(list_1))\n\u001b[1;32m----> 8\u001b[0m \u001b[38;5;28mprint\u001b[39m (\u001b[38;5;124m'\u001b[39m\u001b[38;5;124mdata type of the veriable\u001b[39m\u001b[38;5;124m'\u001b[39m,\u001b[38;5;28mtype\u001b[39m(list_12))\n\u001b[0;32m      9\u001b[0m \u001b[38;5;28mprint\u001b[39m (\u001b[38;5;124m'\u001b[39m\u001b[38;5;124mdata type of the veriable\u001b[39m\u001b[38;5;124m'\u001b[39m,\u001b[38;5;28mtype\u001b[39m(list_3))\n",
      "\u001b[1;31mNameError\u001b[0m: name 'list_12' is not defined"
     ]
    }
   ],
   "source": [
    "# creat an list\n",
    "list_1=[10,20,30,40]\n",
    "list_2=[10.38,20.46,30.39,40.68]\n",
    "list_3=['Jafar','Nirmal','Nanthini','Pooja']\n",
    "\n",
    "\n",
    "print ('data type of the veriable',type(list_1))\n",
    "print ('data type of the veriable',type(list_12))\n",
    "print ('data type of the veriable',type(list_3))\n"
   ]
  },
  {
   "cell_type": "code",
   "execution_count": 19,
   "id": "d9f0f2f9-e4aa-4382-99c6-0e6644c7a6e6",
   "metadata": {},
   "outputs": [
    {
     "ename": "NameError",
     "evalue": "name 'tuple_1' is not defined",
     "output_type": "error",
     "traceback": [
      "\u001b[1;31m---------------------------------------------------------------------------\u001b[0m",
      "\u001b[1;31mNameError\u001b[0m                                 Traceback (most recent call last)",
      "Cell \u001b[1;32mIn[19], line 7\u001b[0m\n\u001b[0;32m      3\u001b[0m list_2\u001b[38;5;241m=\u001b[39m[\u001b[38;5;241m10.38\u001b[39m,\u001b[38;5;241m20.46\u001b[39m,\u001b[38;5;241m30.39\u001b[39m,\u001b[38;5;241m40.68\u001b[39m]\n\u001b[0;32m      4\u001b[0m list_3\u001b[38;5;241m=\u001b[39m[\u001b[38;5;124m'\u001b[39m\u001b[38;5;124mJafar\u001b[39m\u001b[38;5;124m'\u001b[39m,\u001b[38;5;124m'\u001b[39m\u001b[38;5;124mNirmal\u001b[39m\u001b[38;5;124m'\u001b[39m,\u001b[38;5;124m'\u001b[39m\u001b[38;5;124mNanthini\u001b[39m\u001b[38;5;124m'\u001b[39m,\u001b[38;5;124m'\u001b[39m\u001b[38;5;124mPooja\u001b[39m\u001b[38;5;124m'\u001b[39m]\n\u001b[1;32m----> 7\u001b[0m \u001b[38;5;28mprint\u001b[39m (\u001b[38;5;124m'\u001b[39m\u001b[38;5;124mdata type of the veriable\u001b[39m\u001b[38;5;124m'\u001b[39m,\u001b[38;5;28mtype\u001b[39m(tuple_1))\n\u001b[0;32m      8\u001b[0m \u001b[38;5;28mprint\u001b[39m (\u001b[38;5;124m'\u001b[39m\u001b[38;5;124mdata type of the veriable\u001b[39m\u001b[38;5;124m'\u001b[39m,\u001b[38;5;28mtype\u001b[39m(tuple_2))\n\u001b[0;32m      9\u001b[0m \u001b[38;5;28mprint\u001b[39m (\u001b[38;5;124m'\u001b[39m\u001b[38;5;124mdata type of the veriable\u001b[39m\u001b[38;5;124m'\u001b[39m,\u001b[38;5;28mtype\u001b[39m(tuple_3))\n",
      "\u001b[1;31mNameError\u001b[0m: name 'tuple_1' is not defined"
     ]
    }
   ],
   "source": [
    "# creat an tuple\n",
    "list_1=[10,20,30,40]\n",
    "list_2=[10.38,20.46,30.39,40.68]\n",
    "list_3=['Jafar','Nirmal','Nanthini','Pooja']\n",
    "\n",
    "\n",
    "print ('data type of the veriable',type(tuple_1))\n",
    "print ('data type of the veriable',type(tuple_2))\n",
    "print ('data type of the veriable',type(tuple_3))"
   ]
  },
  {
   "cell_type": "code",
   "execution_count": 31,
   "id": "66e39633-d399-489d-ae22-4988333a357e",
   "metadata": {},
   "outputs": [
    {
     "name": "stdout",
     "output_type": "stream",
     "text": [
      "data type of the veriable <class 'tuple'>\n",
      "data type of the veriable <class 'tuple'>\n",
      "data type of the veriable <class 'tuple'>\n"
     ]
    }
   ],
   "source": [
    "# creat an list\n",
    "list_1=(10,20,30,40)\n",
    "list_2=(10.38,20.46,30.39,40.68)\n",
    "list_3=('Jafar','Nirmal','Nanthini','Pooja')\n",
    "\n",
    "\n",
    "print ('data type of the veriable',type(list_1))\n",
    "print ('data type of the veriable',type(list_2))\n",
    "print ('data type of the veriable',type(list_3))"
   ]
  },
  {
   "cell_type": "code",
   "execution_count": 23,
   "id": "67571015-bf05-4270-8aa9-359f06cf7f66",
   "metadata": {},
   "outputs": [
    {
     "name": "stdout",
     "output_type": "stream",
     "text": [
      "data type of the veriable <class 'tuple'>\n",
      "data type of the veriable <class 'tuple'>\n",
      "data type of the veriable <class 'tuple'>\n"
     ]
    }
   ],
   "source": [
    "\n",
    "# creat an list\n",
    "list_1=(10,20,30,40)\n",
    "list_2=(10.38,20.46,30.39,40.68)\n",
    "list_3=('Jafar','Nirmal','Nanthini','Pooja')\n",
    "\n",
    "\n",
    "print ('data type of the veriable',type(list_1))\n",
    "print ('data type of the veriable',type(list_2))\n",
    "print ('data type of the veriable',type(list_3))"
   ]
  },
  {
   "cell_type": "code",
   "execution_count": 29,
   "id": "f88b542d-fb86-4d25-a668-a389155f5201",
   "metadata": {},
   "outputs": [
    {
     "name": "stdout",
     "output_type": "stream",
     "text": [
      "data type of the veriable <class 'set'>\n",
      "data type of the veriable <class 'set'>\n",
      "data type of the veriable <class 'set'>\n"
     ]
    }
   ],
   "source": [
    "# creat an set\n",
    "set_1={10,20,30,40}\n",
    "set_2={10.38,20.46,30.39,40.68}\n",
    "set_3={'Jafar','Nirmal','Nanthini','Pooja'}\n",
    "\n",
    "\n",
    "print ('data type of the veriable',type(set_1))\n",
    "print ('data type of the veriable',type(set_2))\n",
    "print ('data type of the veriable',type(set_3))"
   ]
  },
  {
   "cell_type": "code",
   "execution_count": 33,
   "id": "64bf4b86-50d2-401b-9f7a-3a02f2146565",
   "metadata": {},
   "outputs": [
    {
     "name": "stdout",
     "output_type": "stream",
     "text": [
      "data type of the veriable <class 'bool'>\n",
      "data type of the veriable <class 'bool'>\n"
     ]
    }
   ],
   "source": [
    "# creat an boolean datatype\n",
    "\n",
    "boolean_1=True\n",
    "boolean_2=False\n",
    "\n",
    "print ('data type of the veriable',type(boolean_1))\n",
    "print ('data type of the veriable',type(boolean_2))\n",
    "\n",
    "\n"
   ]
  },
  {
   "cell_type": "code",
   "execution_count": 61,
   "id": "d47fef2b-dc77-4c51-9764-3beb1e726b5c",
   "metadata": {},
   "outputs": [
    {
     "name": "stdout",
     "output_type": "stream",
     "text": [
      "data type of the veriable <class 'dict'>\n"
     ]
    }
   ],
   "source": [
    "# creat an dictionary datatype\n",
    "dictonary_1={'list_1':[10,20,30,40],\n",
    "             'tuple_1':(10,20,30,40),\n",
    "             'set_1':(10,20,30,40)}\n",
    "\n",
    "# show the data type\n",
    "print ('data type of the veriable',type(dictonary_1))\n",
    "\n",
    "              "
   ]
  },
  {
   "cell_type": "markdown",
   "id": "bef8c881-b9b8-43c4-b8c1-c5f3864bbd19",
   "metadata": {},
   "source": [
    " # basic operation"
   ]
  },
  {
   "cell_type": "code",
   "execution_count": 77,
   "id": "9a5052b0-c5c2-42dc-9e20-36a2a5adc1d1",
   "metadata": {},
   "outputs": [
    {
     "name": "stdout",
     "output_type": "stream",
     "text": [
      "data type of the variable <class 'float'>\n",
      "data type of the veriable <class 'int'>\n"
     ]
    }
   ],
   "source": [
    "# task_1: type casting\n",
    "float_2=45.96\n",
    "\n",
    "# show the datatype\n",
    "print('data type of the variable',type(float_2))\n",
    "\n",
    "#typecasting\n",
    "int_2=int(float_2)\n",
    "\n",
    "# show the data type\n",
    "print ('data type of the veriable',type(int_2))\n",
    "\n",
    "              \n",
    "\n",
    "\n"
   ]
  },
  {
   "cell_type": "code",
   "execution_count": 81,
   "id": "744bcecd-7903-4f48-a12a-0d584d9d43cf",
   "metadata": {},
   "outputs": [
    {
     "name": "stdout",
     "output_type": "stream",
     "text": [
      "data type of the variable <class 'int'>\n",
      "data type of the veriable <class 'int'>\n"
     ]
    }
   ],
   "source": [
    "# task_1: type casting\n",
    "int_3=5\n",
    "\n",
    "# show the datatype\n",
    "print('data type of the variable',type(int_3))\n",
    "\n",
    "#typecasting\n",
    "float_3=int(int_3)\n",
    "\n",
    "# show the data type\n",
    "print ('data type of the veriable',type(float_3))\n",
    "\n",
    "              \n"
   ]
  },
  {
   "cell_type": "code",
   "execution_count": 7,
   "id": "cf36926e-8310-4f06-b55b-f33116e32e7a",
   "metadata": {},
   "outputs": [
    {
     "name": "stdout",
     "output_type": "stream",
     "text": [
      "rounded_value are: 10.123\n"
     ]
    }
   ],
   "source": [
    "# task2:use to round function\n",
    "float_4=10.1234567890\n",
    "\n",
    "# round this value three decimal places\n",
    "rounded_value = round(float_4,3)\n",
    "\n",
    "#show the output\n",
    "print('rounded_value are:',rounded_value)"
   ]
  },
  {
   "cell_type": "markdown",
   "id": "4cb0f051-e333-4dd7-bd53-b5ef1e22d85a",
   "metadata": {},
   "source": [
    "# Arithmatic operation on a data"
   ]
  },
  {
   "cell_type": "code",
   "execution_count": 11,
   "id": "8578fd8d-6b19-43ab-a7cc-d0d62710296f",
   "metadata": {},
   "outputs": [
    {
     "name": "stdout",
     "output_type": "stream",
     "text": [
      "addtion of two variable: 30\n"
     ]
    }
   ],
   "source": [
    "# addition opreation\n",
    "# declear the variable\n",
    "a=10\n",
    "b=20\n",
    "\n",
    "# perform the sem\n",
    "sum_1=a+b\n",
    "\n",
    "#show the output\n",
    "print('addtion of two variable:',sum_1)"
   ]
  },
  {
   "cell_type": "code",
   "execution_count": 13,
   "id": "c0c38517-4033-40a2-b0d5-94d8652e74f4",
   "metadata": {},
   "outputs": [
    {
     "name": "stdout",
     "output_type": "stream",
     "text": [
      "subraction of two variable: -10\n"
     ]
    }
   ],
   "source": [
    "# subraction opreation\n",
    "# declear the variable\n",
    "a=10\n",
    "b=20\n",
    "\n",
    "# perform the sem\n",
    "sum_1=a-b\n",
    "\n",
    "#show the output\n",
    "print('subraction of two variable:',sum_1)"
   ]
  },
  {
   "cell_type": "code",
   "execution_count": 15,
   "id": "77ef2623-85e5-4f7b-abad-b0fdeed01527",
   "metadata": {},
   "outputs": [
    {
     "name": "stdout",
     "output_type": "stream",
     "text": [
      "multiplicaton of two variable: 200\n"
     ]
    }
   ],
   "source": [
    "# multiplication opreation\n",
    "# declear the variable\n",
    "a=10\n",
    "b=20\n",
    "\n",
    "# perform the sem\n",
    "sum_1=a*b\n",
    "\n",
    "#show the output\n",
    "print('multiplicaton of two variable:',sum_1)"
   ]
  },
  {
   "cell_type": "code",
   "execution_count": 17,
   "id": "8459bd18-c77a-48ad-9d28-293396fa4324",
   "metadata": {},
   "outputs": [
    {
     "name": "stdout",
     "output_type": "stream",
     "text": [
      "divition of two variable: 0.5\n"
     ]
    }
   ],
   "source": [
    "# divition opreation\n",
    "# declear the variable\n",
    "a=10\n",
    "b=20\n",
    "\n",
    "# perform the sem\n",
    "sum_1=a/b\n",
    "\n",
    "#show the output\n",
    "print('divition of two variable:',sum_1)"
   ]
  },
  {
   "cell_type": "markdown",
   "id": "084ccc87-0738-46e0-83ea-b59d603a3bfa",
   "metadata": {},
   "source": [
    "# user difined function\n"
   ]
  },
  {
   "cell_type": "code",
   "execution_count": 24,
   "id": "69782480-91a9-4c13-a3c7-f3260a69d046",
   "metadata": {},
   "outputs": [
    {
     "data": {
      "text/plain": [
       "30"
      ]
     },
     "execution_count": 24,
     "metadata": {},
     "output_type": "execute_result"
    }
   ],
   "source": [
    "# declear the function named as 'summation',who can perform the addtion in two number\n",
    "\n",
    "def summation():\n",
    "    x=10\n",
    "    y=20\n",
    "    summation=x+y\n",
    "    return summation\n",
    "\n",
    "\n"
   ]
  },
  {
   "cell_type": "code",
   "execution_count": 34,
   "id": "ca7589cf-41fb-4269-a888-3c7223c56f4b",
   "metadata": {},
   "outputs": [
    {
     "data": {
      "text/plain": [
       "-20"
      ]
     },
     "execution_count": 34,
     "metadata": {},
     "output_type": "execute_result"
    }
   ],
   "source": [
    "#  declear the function named as 'summation',\n",
    "# \n",
    "# \n",
    "\n",
    "\n",
    "def subraction(x,y):\n",
    "    subraction =x-y\n",
    "    return subraction\n",
    "\n",
    "#call the function\n",
    "subraction(10,30)"
   ]
  },
  {
   "cell_type": "code",
   "execution_count": 40,
   "id": "2314636f-610b-4ad4-a232-328957b9964f",
   "metadata": {},
   "outputs": [
    {
     "name": "stdin",
     "output_type": "stream",
     "text": [
      "give the first number: 20\n",
      "give the second number: 79\n"
     ]
    },
    {
     "data": {
      "text/plain": [
       "1580"
      ]
     },
     "execution_count": 40,
     "metadata": {},
     "output_type": "execute_result"
    }
   ],
   "source": [
    "#  declear the function named as 'multiplication,\n",
    "# who can perform the multiplication b/t in two number\n",
    "#this time you need to that the input form user\n",
    "# take the input formate user\n",
    "\n",
    "\n",
    "var_2=int(input('give the first number:'))\n",
    "var_3=int(input('give the second number:'))\n",
    "\n",
    "\n",
    "#make that user define function\n",
    "\n",
    "          \n",
    "def multiplication(var_2,var_3):\n",
    "    mul=var_2*var_3\n",
    "    return mul\n",
    "          \n",
    "#call the function\n",
    "multiplication(var_2,var_3)        "
   ]
  },
  {
   "cell_type": "code",
   "execution_count": null,
   "id": "15f415fb-1147-48bd-bf4f-2097c5cd0455",
   "metadata": {},
   "outputs": [],
   "source": []
  }
 ],
 "metadata": {
  "kernelspec": {
   "display_name": "Python 3 (ipykernel)",
   "language": "python",
   "name": "python3"
  },
  "language_info": {
   "codemirror_mode": {
    "name": "ipython",
    "version": 3
   },
   "file_extension": ".py",
   "mimetype": "text/x-python",
   "name": "python",
   "nbconvert_exporter": "python",
   "pygments_lexer": "ipython3",
   "version": "3.12.4"
  }
 },
 "nbformat": 4,
 "nbformat_minor": 5
}
